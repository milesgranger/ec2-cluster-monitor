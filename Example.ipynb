{
 "cells": [
  {
   "cell_type": "code",
   "execution_count": 1,
   "metadata": {
    "collapsed": false
   },
   "outputs": [],
   "source": [
    "from controller import Controller"
   ]
  },
  {
   "cell_type": "code",
   "execution_count": null,
   "metadata": {
    "collapsed": false
   },
   "outputs": [
    {
     "name": "stdout",
     "output_type": "stream",
     "text": [
      "[FK150212.bkk.no:] Found instance \"fk_churn_instance\" --> running\n",
      "[FK150212.bkk.no:] Found instance \"qlik_sense_central\" --> running\n"
     ]
    }
   ],
   "source": [
    "name_tags = ['fk_churn_instance', 'qlik_sense_central']\n",
    "controller = Controller(instance_name_tags=name_tags, \n",
    "                        shutdown_cpu_thresh=0.005,\n",
    "                        cpu_thresh=0.5,\n",
    "                        lookback_mins=2,\n",
    "                        boto3_profile='fk_churn_iam', \n",
    "                        cool_down_mins=2, \n",
    "                        time_between_checks_mins=0.5)"
   ]
  },
  {
   "cell_type": "code",
   "execution_count": null,
   "metadata": {
    "collapsed": false
   },
   "outputs": [
    {
     "name": "stdout",
     "output_type": "stream",
     "text": [
      "[FK150212.bkk.no:] Starting monitoring service..\n",
      "[FK150212.bkk.no:] Placing instance ip-172-31-13-140.us-west-2.compute.internal into cool down queue, will shutoff in 2 mins if CPU stays below cpu_thresh.\n",
      "[FK150212.bkk.no:] Stopped instance ip-172-31-13-140.us-west-2.compute.internal.\n",
      "[FK150212.bkk.no:] Instance ip-172-31-35-215.us-west-2.compute.internal over CPU thresh: 0.5 now at 0.6041, starting another instance: ip-172-31-13-140.us-west-2.compute.internal\n",
      "[FK150212.bkk.no:] Remote instance ip-172-31-13-140.us-west-2.compute.internal is now in running state!\n",
      "[FK150212.bkk.no:] Placing instance ip-172-31-13-140.us-west-2.compute.internal into cool down queue, will shutoff in 2 mins if CPU stays below cpu_thresh.\n",
      "[FK150212.bkk.no:] Placing instance ip-172-31-13-140.us-west-2.compute.internal into cool down queue, will shutoff in 2 mins if CPU stays below cpu_thresh.\n",
      "[FK150212.bkk.no:] Stopped instance ip-172-31-13-140.us-west-2.compute.internal.\n"
     ]
    }
   ],
   "source": [
    "controller.monitor()"
   ]
  },
  {
   "cell_type": "code",
   "execution_count": null,
   "metadata": {
    "collapsed": true
   },
   "outputs": [],
   "source": []
  }
 ],
 "metadata": {
  "anaconda-cloud": {},
  "kernelspec": {
   "display_name": "Python [conda env:churn]",
   "language": "python",
   "name": "conda-env-churn-py"
  },
  "language_info": {
   "codemirror_mode": {
    "name": "ipython",
    "version": 3
   },
   "file_extension": ".py",
   "mimetype": "text/x-python",
   "name": "python",
   "nbconvert_exporter": "python",
   "pygments_lexer": "ipython3",
   "version": "3.4.5"
  }
 },
 "nbformat": 4,
 "nbformat_minor": 1
}
