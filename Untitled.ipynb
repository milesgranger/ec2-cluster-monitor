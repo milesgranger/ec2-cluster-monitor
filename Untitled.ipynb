{
 "cells": [
  {
   "cell_type": "code",
   "execution_count": 1,
   "metadata": {
    "collapsed": true
   },
   "outputs": [],
   "source": [
    "from controller import Controller"
   ]
  },
  {
   "cell_type": "code",
   "execution_count": 3,
   "metadata": {
    "collapsed": false
   },
   "outputs": [
    {
     "name": "stdout",
     "output_type": "stream",
     "text": [
      "[FK150212.bkk.no:] Found instance fk_churn_instance --> running\n",
      "[FK150212.bkk.no:] Found instance qlik_sense_central --> stopped\n"
     ]
    }
   ],
   "source": [
    "name_tags = ['fk_churn_instance', 'qlik_sense_central']\n",
    "controller = Controller(instance_name_tags=name_tags, \n",
    "                        shutdown_cpu_thresh=0.005,\n",
    "                        cpu_thresh=0.5,\n",
    "                        lookback_mins=2,\n",
    "                        boto3_profile='fk_churn_iam', \n",
    "                        cool_down_mins=2, \n",
    "                        time_between_checks_mins=0.5)"
   ]
  },
  {
   "cell_type": "code",
   "execution_count": 4,
   "metadata": {
    "collapsed": false
   },
   "outputs": [],
   "source": [
    "inst = controller.instances[0]\n"
   ]
  },
  {
   "cell_type": "code",
   "execution_count": 63,
   "metadata": {
    "collapsed": false
   },
   "outputs": [
    {
     "name": "stdout",
     "output_type": "stream",
     "text": [
      "0.0001\n"
     ]
    },
    {
     "data": {
      "text/plain": [
       "{'Datapoints': [{'Average': 0.01,\n",
       "   'Timestamp': datetime.datetime(2017, 3, 23, 14, 7, tzinfo=tzutc()),\n",
       "   'Unit': 'Percent'}],\n",
       " 'Label': 'CPUUtilization',\n",
       " 'ResponseMetadata': {'HTTPHeaders': {'content-length': '498',\n",
       "   'content-type': 'text/xml',\n",
       "   'date': 'Thu, 23 Mar 2017 14:09:57 GMT',\n",
       "   'x-amzn-requestid': '65790c69-0fd2-11e7-8a60-9f739d99aca2'},\n",
       "  'HTTPStatusCode': 200,\n",
       "  'RequestId': '65790c69-0fd2-11e7-8a60-9f739d99aca2',\n",
       "  'RetryAttempts': 0}}"
      ]
     },
     "execution_count": 63,
     "metadata": {},
     "output_type": "execute_result"
    }
   ],
   "source": [
    "from datetime import datetime, timedelta\n",
    "from operator import itemgetter\n",
    "\n",
    "now = datetime.utcnow()\n",
    "past = now - timedelta(minutes=2)\n",
    "future = now + timedelta(minutes=0)\n",
    "results = controller.cloud_watch.get_metric_statistics(\n",
    "    Namespace='AWS/EC2',\n",
    "    MetricName='CPUUtilization',\n",
    "    Dimensions=[{'Name': 'InstanceId', 'Value': controller.instances[0].id}],\n",
    "    StartTime=past,\n",
    "    EndTime=future,\n",
    "    Period=300,\n",
    "    Statistics=['Average']\n",
    ")\n",
    "datapoints = results['Datapoints']\n",
    "if datapoints:\n",
    "    last_datapoint = sorted(datapoints, key=itemgetter('Timestamp'))[-1]\n",
    "    cpu_load = last_datapoint['Average'] / 100.0\n",
    "    print(cpu_load)\n",
    "    \n",
    "results"
   ]
  },
  {
   "cell_type": "code",
   "execution_count": null,
   "metadata": {
    "collapsed": true
   },
   "outputs": [],
   "source": []
  }
 ],
 "metadata": {
  "kernelspec": {
   "display_name": "Python [conda env:churn]",
   "language": "python",
   "name": "conda-env-churn-py"
  },
  "language_info": {
   "codemirror_mode": {
    "name": "ipython",
    "version": 3
   },
   "file_extension": ".py",
   "mimetype": "text/x-python",
   "name": "python",
   "nbconvert_exporter": "python",
   "pygments_lexer": "ipython3",
   "version": "3.4.5"
  }
 },
 "nbformat": 4,
 "nbformat_minor": 1
}
